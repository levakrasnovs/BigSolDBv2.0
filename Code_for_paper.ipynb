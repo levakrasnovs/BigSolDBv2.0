{
 "cells": [
  {
   "cell_type": "code",
   "execution_count": null,
   "id": "e3239d6b-2cd8-4ae0-99df-bd5d52bf1392",
   "metadata": {},
   "outputs": [],
   "source": [
    "import pandas as pd\n",
    "import requests\n",
    "from tqdm.notebook import tqdm\n",
    "from math import log10\n",
    "from rdkit import Chem\n",
    "from rdkit.Chem.Descriptors import MolWt\n",
    "\n",
    "solvent_dict = {'dmf': 'DMF', \n",
    "                'dmso': 'DMSO', \n",
    "                'thf': 'THF', \n",
    "                'nmp': 'NMP', \n",
    "                'mtbe': 'MTBE', \n",
    "                'mibk': 'MIBK', \n",
    "                'dmac': 'DMAc',\n",
    "                'peg-400': 'PEG-400',\n",
    "                'peg-300': 'PEG-300', \n",
    "                'peg-200': 'PEG-200',\n",
    "                'peg-600': 'PEG-600', \n",
    "                'pegdme 250': 'PEGDME 250'}"
   ]
  },
  {
   "cell_type": "code",
   "execution_count": null,
   "id": "a22759da-6b79-4442-8995-03bb0bf1b65d",
   "metadata": {},
   "outputs": [],
   "source": [
    "df = pd.read_csv('BigSolDBv2.0.csv')"
   ]
  },
  {
   "cell_type": "code",
   "execution_count": null,
   "id": "3ae33900-5a97-4311-8629-07278876d951",
   "metadata": {},
   "outputs": [],
   "source": [
    "#checking that the mole fraction does not exceed 1\n",
    "df[df['Solubility(mole_fraction)'] >= 1]"
   ]
  },
  {
   "cell_type": "code",
   "execution_count": null,
   "id": "b19ad56e-18a5-4827-a0ca-01d09b969458",
   "metadata": {},
   "outputs": [],
   "source": [
    "#checking that all DOIs are valid\n",
    "dois = df['Source'].unique().tolist()\n",
    "for doi in tqdm(dois):\n",
    "    d = requests.get(f'https://api.crossref.org/works/{doi}')\n",
    "    if d.status_code == 200:\n",
    "        print('ok')\n",
    "    else:\n",
    "        print(f'This DOI does not exist: {doi}')"
   ]
  },
  {
   "cell_type": "code",
   "execution_count": null,
   "id": "d16bf01a-0426-43b7-a958-9642aa471b26",
   "metadata": {},
   "outputs": [],
   "source": [
    "#checking that all SMILES_Solute have the same Compound_Name\n",
    "dict(df.groupby('Compound_Name')['SMILES_Solute'].nunique().nlargest(10))"
   ]
  },
  {
   "cell_type": "code",
   "execution_count": null,
   "id": "a2489761-0d8e-49f9-81cc-cfe36d2f29b4",
   "metadata": {},
   "outputs": [],
   "source": [
    "#checking that all Compound_Name have the same SMILES_Solute\n",
    "dict(df.groupby('SMILES_Solute')['Compound_Name'].nunique().nlargest(10))"
   ]
  },
  {
   "cell_type": "code",
   "execution_count": null,
   "id": "fe004099-b888-4680-a785-39c70e813a54",
   "metadata": {},
   "outputs": [],
   "source": [
    "def convert_to_mol_l(smi_solvent, x, ro):\n",
    "    \"\"\"\n",
    "    smi_solvent: solvent SMILES\n",
    "    x: mole fraction solubility of the solute\n",
    "    ro: solvent density\n",
    "    \"\"\"\n",
    "    M = MolWt(Chem.MolFromSmiles(smi_solvent))\n",
    "    S = x/(1-x)*1000*ro/M\n",
    "    return S, log10(S)"
   ]
  },
  {
   "cell_type": "code",
   "execution_count": null,
   "id": "d86eedda-7c15-4ded-ab31-0534f0fdfabb",
   "metadata": {},
   "outputs": [],
   "source": [
    "densities = pd.read_csv('BigSolDBv2.0_densities.csv')\n",
    "densities['Solvent'] = densities['Solvent'].apply(lambda x: x.lower())\n",
    "densities['Solvent'] = densities['Solvent'].apply(lambda x: solvent_dict[x] if x in solvent_dict else x)\n",
    "densities['Density_g/cm^3'] = densities['Density_g/cm^3'].apply(lambda x: float(x.replace(',', '.')))\n",
    "solvents_with_density = densities['Solvent'].unique().tolist()"
   ]
  },
  {
   "cell_type": "code",
   "execution_count": null,
   "id": "99925979-37a9-4bb6-af21-c78e98e69481",
   "metadata": {},
   "outputs": [],
   "source": [
    "coeff = pd.read_csv('Coeffs.csv')\n",
    "coeff['Solvent'] = coeff['Solvent'].apply(lambda x: x.lower().strip())\n",
    "coeff['Solvent'] = coeff['Solvent'].apply(lambda x: solvent_dict[x] if x in solvent_dict else x)"
   ]
  },
  {
   "cell_type": "code",
   "execution_count": null,
   "id": "3f8ad506-b588-4159-9300-1abe552e0af5",
   "metadata": {},
   "outputs": [],
   "source": [
    "smiles_solvents_dict = dict(df[['Solvent', 'SMILES_Solvent']].drop_duplicates().values)"
   ]
  },
  {
   "cell_type": "code",
   "execution_count": null,
   "id": "843baec3-d288-4c24-86e0-150f20058ef3",
   "metadata": {},
   "outputs": [],
   "source": [
    "#conversion from mole fraction to mol/L\n",
    "logs_list = []\n",
    "solub_list = []\n",
    "for solv, solub, temp in tqdm(zip(df['Solvent'], df['Solubility(mole_fraction)'], df['Temperature_K'])):\n",
    "    if solv in solvents_with_density:\n",
    "        ro_df = densities[(densities['Solvent'] == solv) & (densities['Temperature_K'] == temp)]\n",
    "        if (ro_df.shape[0] > 0):\n",
    "            ro = ro_df['Density_g/cm^3'].mean()\n",
    "        else:\n",
    "            coeff_df = coeff[(coeff['Solvent'] == solv)]\n",
    "            a = coeff_df['a'].iloc[0]\n",
    "            b = coeff_df['b'].iloc[0]\n",
    "            ro = a*temp + b\n",
    "        smi_solvent = smiles_solvents_dict[solv]\n",
    "        S, logs = convert_to_mol_l(smi_solvent, solub, ro)\n",
    "        solub_list.append(S)\n",
    "        logs_list.append(logs)\n",
    "    else:\n",
    "        solub_list.append(None)\n",
    "        logs_list.append(None)"
   ]
  },
  {
   "cell_type": "code",
   "execution_count": null,
   "id": "13879032-bffe-4c24-b201-3c4481db202e",
   "metadata": {},
   "outputs": [],
   "source": [
    "import re\n",
    "import pubchempy as pcp\n",
    "def get_substructure_cas(smiles):\n",
    "    \"\"\"\n",
    "    Getting CAS and PubChem CID from PubChem API\n",
    "    \"\"\"\n",
    "    cas_rns = []\n",
    "    results = pcp.get_synonyms(smiles, 'smiles')\n",
    "    if results:\n",
    "        cid = results[0]['CID']\n",
    "        for result in results:\n",
    "            for syn in result.get('Synonym', []):\n",
    "                match = re.match('(\\d{2,7}-\\d\\d-\\d)', syn)\n",
    "                if match:\n",
    "                    cas_rns.append(match.group(1))\n",
    "        if cas_rns:\n",
    "            return cas_rns[0], cid\n",
    "        else:\n",
    "            return None, cid\n",
    "    else:\n",
    "        print(smiles)\n",
    "        return None, None"
   ]
  },
  {
   "cell_type": "code",
   "execution_count": null,
   "id": "a2a2a89f-8244-445a-99f8-68f06635f4e5",
   "metadata": {},
   "outputs": [],
   "source": [
    "#getting data for Aspirin\n",
    "get_substructure_cas('CC(=O)Oc1ccccc1C(=O)O')"
   ]
  },
  {
   "cell_type": "code",
   "execution_count": null,
   "id": "f9abc1cd-310c-4804-ba18-a74de22af3f5",
   "metadata": {},
   "outputs": [],
   "source": [
    "from chembl_webresource_client.new_client import new_client\n",
    "\n",
    "molecule = new_client.molecule\n",
    "approved_drugs = molecule.filter(max_phase=4).only(['molecule_chembl_id', 'molecule_structures'])"
   ]
  },
  {
   "cell_type": "code",
   "execution_count": null,
   "id": "699e6f78-aa7c-4448-8551-f012f6ce034d",
   "metadata": {},
   "outputs": [],
   "source": [
    "len(approved_drugs)"
   ]
  },
  {
   "cell_type": "code",
   "execution_count": null,
   "id": "84f19c5b-805d-4bbb-b5f2-b79ca90056a1",
   "metadata": {},
   "outputs": [],
   "source": [
    "fda_smiles_list = []\n",
    "for drug in tqdm_notebook(approved_drugs):\n",
    "    if drug['molecule_structures'] is not None:\n",
    "        fda_smiles_list.append(drug['molecule_structures']['canonical_smiles'])\n",
    "    else:\n",
    "        fda_smiles_list.append(None)"
   ]
  },
  {
   "cell_type": "code",
   "execution_count": null,
   "id": "a6c73b36-dce5-48a7-81f8-dc44b8493cb0",
   "metadata": {},
   "outputs": [],
   "source": [
    "df['FDA Approved'] = df['SMILES'].apply(lambda x: 'Yes' if x in fda_smiles_list else 'No')"
   ]
  }
 ],
 "metadata": {
  "kernelspec": {
   "display_name": "Python 3 (ipykernel)",
   "language": "python",
   "name": "python3"
  },
  "language_info": {
   "codemirror_mode": {
    "name": "ipython",
    "version": 3
   },
   "file_extension": ".py",
   "mimetype": "text/x-python",
   "name": "python",
   "nbconvert_exporter": "python",
   "pygments_lexer": "ipython3",
   "version": "3.9.19"
  }
 },
 "nbformat": 4,
 "nbformat_minor": 5
}
